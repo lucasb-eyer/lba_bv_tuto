{
 "cells": [
  {
   "cell_type": "code",
   "execution_count": 3,
   "id": "a92f84c0-99b1-4d30-a203-22bf889242b9",
   "metadata": {},
   "outputs": [],
   "source": [
    "import numpy as np\n",
    "import cv2"
   ]
  },
  {
   "cell_type": "code",
   "execution_count": 212,
   "id": "2ec84087-0efa-4793-b035-d23d280f3fe2",
   "metadata": {},
   "outputs": [],
   "source": [
    "def rel2pix(x, res=224):\n",
    "  return np.floor(x * res).astype(int)\n",
    "\n",
    "def generate(res=224, thickness=2, lineType=cv2.LINE_AA, rng=None):\n",
    "  if rng is None:\n",
    "    rng = np.random.default_rng()\n",
    "\n",
    "  # Create a blank transparent image (RGBA)\n",
    "  image = np.full((224, 224, 3), 255, dtype=np.uint8)\n",
    "\n",
    "  xs = rel2pix([0.01, 0.34, 0.67] + rng.uniform(size=3) * 0.32, res)\n",
    "\n",
    "  while True:  # Avoid pathologies where the ends are very close.\n",
    "    y1s = rel2pix(rng.uniform(size=3), res)\n",
    "    y2s = rel2pix(rng.uniform(size=3), res)\n",
    "    if np.all(np.abs(y1s - y2s) > 2 * thickness):\n",
    "      break\n",
    "\n",
    "  # Draw lines and count intersections.\n",
    "  n = 0\n",
    "  for i in range(len(xs) - 1):\n",
    "    cv2.line(image, (xs[i], y1s[i]), [xs[i+1], y1s[i+1]], color=(255, 0, 0, 255), thickness=thickness, lineType=lineType)\n",
    "    cv2.line(image, (xs[i], y2s[i]), [xs[i+1], y2s[i+1]], color=(0, 0, 255, 255), thickness=thickness, lineType=lineType)\n",
    "    n += (y1s[i] - y2s[i]) * (y1s[i+1] - y2s[i+1]) < 0\n",
    "\n",
    "  return image, n"
   ]
  },
  {
   "cell_type": "code",
   "execution_count": 213,
   "id": "3f0f25eb-5435-4e57-850d-dfafb1725370",
   "metadata": {},
   "outputs": [
    {
     "name": "stdout",
     "output_type": "stream",
     "text": [
      "1\n"
     ]
    },
    {
     "data": {
      "image/jpeg": "[encoded data removed]",
      "image/png": "[encoded data removed]",
      "text/plain": [
       "<PIL.Image.Image image mode=RGB size=224x224>"
      ]
     },
     "metadata": {},
     "output_type": "display_data"
    }
   ],
   "source": [
    "from PIL import Image\n",
    "from IPython.display import display\n",
    "\n",
    "# Display the image in Colab\n",
    "img, n = generate()\n",
    "print(n)\n",
    "display(Image.fromarray(img))"
   ]
  },
  {
   "cell_type": "code",
   "execution_count": null,
   "id": "d2a5ed46-8562-42a6-8737-63aff82e3674",
   "metadata": {},
   "outputs": [],
   "source": [
    "import json\n",
    "from tqdm.notebook import tqdm\n",
    "from collections import Counter\n",
    "\n",
    "!mkdir -p lines_data\n",
    "\n",
    "# Create balanced test-sets:\n",
    "rng = np.random.default_rng(42)\n",
    "with open('lines_data/val.jsonl', 'w+') as f:\n",
    "  class_counts = Counter()\n",
    "  while set(class_counts.values()) != {333}:\n",
    "    img, c = generate(rng=rng)\n",
    "    if (n := class_counts[c]) < 333:\n",
    "      fname = f'val_{c}_{n:03d}.png'\n",
    "      cv2.imwrite('lines_data/' + fname, img)\n",
    "      f.write(json.dumps({'suffix': str(c), 'image': fname}) + \"\\n\")\n",
    "      class_counts[c] += 1\n",
    "    print(f\"\\r{class_counts}\", end=\"\", flush=True)\n",
    "\n",
    "# Create just large imbalanced train-set:\n",
    "rng = np.random.default_rng(1337)\n",
    "with open('lines_data/train.jsonl', 'w+') as f:\n",
    "  for fname in (f'train_{i:05d}.png' for i in tqdm(range(10_000))):\n",
    "    img, c = generate(rng=rng)\n",
    "    cv2.imwrite('lines_data/' + fname, img)\n",
    "    f.write(json.dumps({'suffix': str(c), 'image': fname}) + \"\\n\")"
   ]
  },
  {
   "cell_type": "code",
   "execution_count": null,
   "id": "928bd262-104b-4b8c-a5df-337ddabcf6ef",
   "metadata": {},
   "outputs": [],
   "source": []
  },
  {
   "cell_type": "code",
   "execution_count": null,
   "id": "b25ce628-2f3c-4b29-a3c4-8d451bffdfb3",
   "metadata": {},
   "outputs": [],
   "source": []
  },
  {
   "cell_type": "code",
   "execution_count": null,
   "id": "0ba1243a-d398-4a29-9bcc-9ed8e444cc0e",
   "metadata": {},
   "outputs": [],
   "source": []
  },
  {
   "cell_type": "code",
   "execution_count": null,
   "id": "80fc97bb-1232-4da5-baf7-2a264ce8ab7f",
   "metadata": {},
   "outputs": [],
   "source": []
  },
  {
   "cell_type": "code",
   "execution_count": null,
   "id": "45d0b6fe-2444-48e4-b40f-6f737c9beb3b",
   "metadata": {},
   "outputs": [],
   "source": []
  },
  {
   "cell_type": "code",
   "execution_count": null,
   "id": "7e69dc69-8036-40b0-b8f0-930af3499a64",
   "metadata": {},
   "outputs": [],
   "source": []
  },
  {
   "cell_type": "code",
   "execution_count": null,
   "id": "e88bddc0-8942-47e4-80a3-08d80ad4a5f3",
   "metadata": {},
   "outputs": [],
   "source": []
  },
  {
   "cell_type": "code",
   "execution_count": null,
   "id": "c24bd6f1-34ec-44c6-82d5-4db320beffb4",
   "metadata": {},
   "outputs": [],
   "source": []
  },
  {
   "cell_type": "code",
   "execution_count": null,
   "id": "305df978-d2ff-4f82-9547-ea1531d836e6",
   "metadata": {},
   "outputs": [],
   "source": []
  }
 ],
 "metadata": {
  "kernelspec": {
   "display_name": "Python 3 (ipykernel)",
   "language": "python",
   "name": "python3"
  },
  "language_info": {
   "codemirror_mode": {
    "name": "ipython",
    "version": 3
   },
   "file_extension": ".py",
   "mimetype": "text/x-python",
   "name": "python",
   "nbconvert_exporter": "python",
   "pygments_lexer": "ipython3",
   "version": "3.12.3"
  }
 },
 "nbformat": 4,
 "nbformat_minor": 5
}
